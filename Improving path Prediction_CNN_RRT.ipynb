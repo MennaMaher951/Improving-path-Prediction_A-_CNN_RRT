{
 "cells": [
  {
   "cell_type": "markdown",
   "id": "e4767eb3",
   "metadata": {},
   "source": [
    "## Importing the Dependences"
   ]
  },
  {
   "cell_type": "code",
   "execution_count": 1,
   "id": "dee79caa",
   "metadata": {},
   "outputs": [],
   "source": [
    "import pandas as pd, numpy as np, matplotlib.pyplot as plt, seaborn as sns\n",
    "from sklearn.model_selection import train_test_split\n",
    "from sklearn.preprocessing import MinMaxScaler\n",
    "import tensorflow as tf\n",
    "from tensorflow import keras\n",
    "from tensorflow.keras.layers import Input, Conv2D, MaxPooling2D, Flatten, Dense, concatenate"
   ]
  },
  {
   "cell_type": "markdown",
   "id": "196b14cf",
   "metadata": {},
   "source": [
    "## Data Colection & Preprocessing "
   ]
  },
  {
   "cell_type": "code",
   "execution_count": 2,
   "id": "e29d8fe3",
   "metadata": {},
   "outputs": [],
   "source": [
    "start_end_data = []\n",
    "for i in range(1, 34):\n",
    "    file_path = f'{i}.xlsx'\n",
    "    df = pd.read_excel(file_path, header=None)\n",
    "    df = df.iloc[2:]\n",
    "    start_end_data.append(df)\n",
    "start_end_data = pd.concat(start_end_data, ignore_index=True)\n",
    "# Set column headers\n",
    "start_end_data.columns = [\"StartX\", \"StartY\", \"GoalX\", \"GoalY\"]"
   ]
  },
  {
   "cell_type": "code",
   "execution_count": 3,
   "id": "713817ed",
   "metadata": {},
   "outputs": [
    {
     "data": {
      "text/html": [
       "<div>\n",
       "<style scoped>\n",
       "    .dataframe tbody tr th:only-of-type {\n",
       "        vertical-align: middle;\n",
       "    }\n",
       "\n",
       "    .dataframe tbody tr th {\n",
       "        vertical-align: top;\n",
       "    }\n",
       "\n",
       "    .dataframe thead th {\n",
       "        text-align: right;\n",
       "    }\n",
       "</style>\n",
       "<table border=\"1\" class=\"dataframe\">\n",
       "  <thead>\n",
       "    <tr style=\"text-align: right;\">\n",
       "      <th></th>\n",
       "      <th>StartX</th>\n",
       "      <th>StartY</th>\n",
       "      <th>GoalX</th>\n",
       "      <th>GoalY</th>\n",
       "    </tr>\n",
       "  </thead>\n",
       "  <tbody>\n",
       "    <tr>\n",
       "      <th>0</th>\n",
       "      <td>70.5</td>\n",
       "      <td>24.5</td>\n",
       "      <td>180</td>\n",
       "      <td>92.5</td>\n",
       "    </tr>\n",
       "    <tr>\n",
       "      <th>1</th>\n",
       "      <td>70.5</td>\n",
       "      <td>24.5</td>\n",
       "      <td>9.5</td>\n",
       "      <td>99.5</td>\n",
       "    </tr>\n",
       "    <tr>\n",
       "      <th>2</th>\n",
       "      <td>70.5</td>\n",
       "      <td>24.5</td>\n",
       "      <td>193.5</td>\n",
       "      <td>28.5</td>\n",
       "    </tr>\n",
       "    <tr>\n",
       "      <th>3</th>\n",
       "      <td>70.5</td>\n",
       "      <td>24.5</td>\n",
       "      <td>101.5</td>\n",
       "      <td>48.5</td>\n",
       "    </tr>\n",
       "    <tr>\n",
       "      <th>4</th>\n",
       "      <td>70.5</td>\n",
       "      <td>24.5</td>\n",
       "      <td>73.5</td>\n",
       "      <td>88.5</td>\n",
       "    </tr>\n",
       "  </tbody>\n",
       "</table>\n",
       "</div>"
      ],
      "text/plain": [
       "  StartX StartY  GoalX GoalY\n",
       "0   70.5   24.5    180  92.5\n",
       "1   70.5   24.5    9.5  99.5\n",
       "2   70.5   24.5  193.5  28.5\n",
       "3   70.5   24.5  101.5  48.5\n",
       "4   70.5   24.5   73.5  88.5"
      ]
     },
     "execution_count": 3,
     "metadata": {},
     "output_type": "execute_result"
    }
   ],
   "source": [
    "start_end_data.head()"
   ]
  },
  {
   "cell_type": "code",
   "execution_count": 4,
   "id": "6fd3e00f",
   "metadata": {},
   "outputs": [
    {
     "data": {
      "text/plain": [
       "(33, 4)"
      ]
     },
     "execution_count": 4,
     "metadata": {},
     "output_type": "execute_result"
    }
   ],
   "source": [
    "start_end_data.shape"
   ]
  },
  {
   "cell_type": "code",
   "execution_count": 5,
   "id": "04c50d79",
   "metadata": {
    "scrolled": true
   },
   "outputs": [
    {
     "data": {
      "text/plain": [
       "StartX    0\n",
       "StartY    0\n",
       "GoalX     0\n",
       "GoalY     0\n",
       "dtype: int64"
      ]
     },
     "execution_count": 5,
     "metadata": {},
     "output_type": "execute_result"
    }
   ],
   "source": [
    "start_end_data.isnull().sum()"
   ]
  },
  {
   "cell_type": "code",
   "execution_count": 6,
   "id": "f7bc1191",
   "metadata": {},
   "outputs": [],
   "source": [
    "scaler = MinMaxScaler()"
   ]
  },
  {
   "cell_type": "code",
   "execution_count": 7,
   "id": "f6787172",
   "metadata": {},
   "outputs": [],
   "source": [
    "start_end_vector = scaler.fit_transform(start_end_data)"
   ]
  },
  {
   "cell_type": "code",
   "execution_count": 8,
   "id": "4e00f020",
   "metadata": {},
   "outputs": [
    {
     "name": "stdout",
     "output_type": "stream",
     "text": [
      "[[1.         0.         0.72291667 0.35652174]\n",
      " [1.         0.         0.0125     0.38695652]\n",
      " [1.         0.         0.77916667 0.07826087]\n",
      " [1.         0.         0.39583333 0.16521739]\n",
      " [1.         0.         0.27916667 0.33913043]\n",
      " [1.         0.         0.78333333 0.35652174]\n",
      " [1.         0.         0.425      0.50434783]\n",
      " [1.         0.         0.87916667 0.50434783]\n",
      " [1.         0.         0.01666667 0.79565217]\n",
      " [1.         0.         0.45416667 1.        ]\n",
      " [1.         0.         0.8        0.        ]\n",
      " [0.71212121 0.19277108 0.39166667 0.19130435]\n",
      " [0.71212121 0.19277108 0.025      0.34347826]\n",
      " [0.71212121 0.19277108 0.77916667 0.32608696]\n",
      " [0.71212121 0.19277108 0.77916667 0.12608696]\n",
      " [0.71212121 0.19277108 0.99583333 0.74347826]\n",
      " [0.71212121 0.19277108 0.         0.78695652]\n",
      " [0.71212121 0.19277108 0.45833333 0.5       ]\n",
      " [0.71212121 0.19277108 0.39166667 0.31304348]\n",
      " [0.71212121 0.19277108 0.39166667 0.09130435]\n",
      " [0.03030303 1.         0.39166667 0.09130435]\n",
      " [0.03030303 1.         0.67916667 0.5       ]\n",
      " [0.03030303 1.         0.82083333 0.35652174]\n",
      " [0.03030303 1.         0.39583333 0.06521739]\n",
      " [0.         0.58433735 0.90416667 0.47391304]\n",
      " [0.         0.58433735 0.83333333 0.35217391]\n",
      " [0.         0.58433735 0.9        0.39565217]\n",
      " [0.         0.58433735 0.8875     0.36521739]\n",
      " [0.         0.58433735 0.8        0.05652174]\n",
      " [0.         0.58433735 0.39583333 0.1826087 ]\n",
      " [0.         0.58433735 0.35416667 0.06521739]\n",
      " [0.         0.58433735 1.         0.78695652]\n",
      " [0.         0.58433735 0.4625     1.        ]]\n"
     ]
    }
   ],
   "source": [
    "print(start_end_vector[:33])"
   ]
  },
  {
   "cell_type": "code",
   "execution_count": 9,
   "id": "d57752a8",
   "metadata": {},
   "outputs": [
    {
     "name": "stdout",
     "output_type": "stream",
     "text": [
      "Number of NaN values: 0\n"
     ]
    }
   ],
   "source": [
    "nan_count = np.isnan(start_end_vector).sum()\n",
    "print(\"Number of NaN values:\", nan_count)"
   ]
  },
  {
   "cell_type": "code",
   "execution_count": 10,
   "id": "f5dd60d5",
   "metadata": {},
   "outputs": [],
   "source": [
    "path_data = {}\n",
    "scaler = MinMaxScaler()\n",
    "# Loop through the file names\n",
    "for i in range(1, 34):\n",
    "    file_name = f'path.{i}.xlsx'\n",
    "    df = pd.read_excel(file_name)\n",
    "    # Set the first row as the header and exclude it from the DataFrame\n",
    "    df.columns = df.iloc[0]\n",
    "    df = df[1:]\n",
    "    # Normalize the 'X' and 'Y' columns within the DataFrame\n",
    "    df[['X', 'Y']] = scaler.fit_transform(df[['X', 'Y']])\n",
    "    # Store the modified DataFrame in the dictionary\n",
    "    path_data[f'path_{i}'] = df"
   ]
  },
  {
   "cell_type": "code",
   "execution_count": 11,
   "id": "b46d950e",
   "metadata": {},
   "outputs": [
    {
     "name": "stdout",
     "output_type": "stream",
     "text": [
      "0           X         Y\n",
      "1    0.000000  0.000000\n",
      "2    0.009132  0.000000\n",
      "3    0.018265  0.000000\n",
      "4    0.027397  0.000000\n",
      "5    0.036530  0.000000\n",
      "..        ...       ...\n",
      "161  0.963472  0.994958\n",
      "162  0.972603  0.996247\n",
      "163  0.981734  0.997535\n",
      "164  0.990865  0.998824\n",
      "165  1.000000  1.000000\n",
      "\n",
      "[165 rows x 2 columns]\n"
     ]
    }
   ],
   "source": [
    "print(path_data['path_1'].head(167))"
   ]
  },
  {
   "cell_type": "code",
   "execution_count": 12,
   "id": "1ea4b5e5",
   "metadata": {
    "scrolled": true
   },
   "outputs": [
    {
     "name": "stdout",
     "output_type": "stream",
     "text": [
      "0           X         Y\n",
      "1    0.000000  0.000000\n",
      "2    0.008850  0.000000\n",
      "3    0.017699  0.000000\n",
      "4    0.026549  0.000000\n",
      "5    0.035398  0.000000\n",
      "..        ...       ...\n",
      "96   0.159252  0.651641\n",
      "97   0.159878  0.660023\n",
      "98   0.160504  0.668405\n",
      "99   0.161130  0.676788\n",
      "100  0.161756  0.685170\n",
      "\n",
      "[100 rows x 2 columns]\n"
     ]
    }
   ],
   "source": [
    "print(path_data['path_33'].head(100))"
   ]
  },
  {
   "cell_type": "code",
   "execution_count": 13,
   "id": "64488ca9",
   "metadata": {},
   "outputs": [],
   "source": [
    "grid_size = (100, 100)\n",
    "# Create an empty dictionary to store grid data\n",
    "grid_data = {}\n",
    "# Iterate through each path data\n",
    "for i in range(1, 34):\n",
    "    path_df = path_data[f'path_{i}']\n",
    "    # Initialize the grid with zeros\n",
    "    image_data = np.zeros(grid_size)\n",
    "    # Populate the grid with path data\n",
    "    for index, row in path_df.iterrows():\n",
    "        x, y = int(row['X'] * (grid_size[0] - 1)), int(row['Y'] * (grid_size[1] - 1))\n",
    "        if 0 <= x < grid_size[0] and 0 <= y < grid_size[1]:\n",
    "            image_data[x, y] = 1  # Set grid cells corresponding to path points to 1\n",
    "    # Store the grid data in the dictionary\n",
    "    grid_data[f'grid_{i}'] = image_data"
   ]
  },
  {
   "cell_type": "code",
   "execution_count": 14,
   "id": "1ba3eef3",
   "metadata": {
    "scrolled": true
   },
   "outputs": [
    {
     "name": "stdout",
     "output_type": "stream",
     "text": [
      "[[1. 0. 0. ... 0. 0. 0.]\n",
      " [1. 0. 0. ... 0. 0. 0.]\n",
      " [1. 0. 0. ... 0. 0. 0.]\n",
      " ...\n",
      " [0. 0. 0. ... 0. 1. 0.]\n",
      " [0. 0. 0. ... 0. 1. 0.]\n",
      " [0. 0. 0. ... 0. 0. 1.]]\n"
     ]
    }
   ],
   "source": [
    "print(grid_data['grid_33'])"
   ]
  },
  {
   "cell_type": "code",
   "execution_count": 15,
   "id": "3b167ddc",
   "metadata": {
    "scrolled": false
   },
   "outputs": [
    {
     "name": "stdout",
     "output_type": "stream",
     "text": [
      "Shape of grid_1: (100, 100)\n",
      "Shape of grid_2: (100, 100)\n",
      "Shape of grid_3: (100, 100)\n",
      "Shape of grid_4: (100, 100)\n",
      "Shape of grid_5: (100, 100)\n",
      "Shape of grid_6: (100, 100)\n",
      "Shape of grid_7: (100, 100)\n",
      "Shape of grid_8: (100, 100)\n",
      "Shape of grid_9: (100, 100)\n",
      "Shape of grid_10: (100, 100)\n",
      "Shape of grid_11: (100, 100)\n",
      "Shape of grid_12: (100, 100)\n",
      "Shape of grid_13: (100, 100)\n",
      "Shape of grid_14: (100, 100)\n",
      "Shape of grid_15: (100, 100)\n",
      "Shape of grid_16: (100, 100)\n",
      "Shape of grid_17: (100, 100)\n",
      "Shape of grid_18: (100, 100)\n",
      "Shape of grid_19: (100, 100)\n",
      "Shape of grid_20: (100, 100)\n",
      "Shape of grid_21: (100, 100)\n",
      "Shape of grid_22: (100, 100)\n",
      "Shape of grid_23: (100, 100)\n",
      "Shape of grid_24: (100, 100)\n",
      "Shape of grid_25: (100, 100)\n",
      "Shape of grid_26: (100, 100)\n",
      "Shape of grid_27: (100, 100)\n",
      "Shape of grid_28: (100, 100)\n",
      "Shape of grid_29: (100, 100)\n",
      "Shape of grid_30: (100, 100)\n",
      "Shape of grid_31: (100, 100)\n",
      "Shape of grid_32: (100, 100)\n",
      "Shape of grid_33: (100, 100)\n"
     ]
    }
   ],
   "source": [
    "# checking for the shape of each grid in grid_data\n",
    "for grid_key, grid_array in grid_data.items():\n",
    "    grid_shape = np.shape(grid_array)\n",
    "    print(f'Shape of {grid_key}: {grid_shape}')"
   ]
  },
  {
   "cell_type": "code",
   "execution_count": 16,
   "id": "717ec0f6",
   "metadata": {},
   "outputs": [
    {
     "name": "stdout",
     "output_type": "stream",
     "text": [
      "Missing values in grid_1: 0\n",
      "Missing values in grid_2: 0\n",
      "Missing values in grid_3: 0\n",
      "Missing values in grid_4: 0\n",
      "Missing values in grid_5: 0\n",
      "Missing values in grid_6: 0\n",
      "Missing values in grid_7: 0\n",
      "Missing values in grid_8: 0\n",
      "Missing values in grid_9: 0\n",
      "Missing values in grid_10: 0\n",
      "Missing values in grid_11: 0\n",
      "Missing values in grid_12: 0\n",
      "Missing values in grid_13: 0\n",
      "Missing values in grid_14: 0\n",
      "Missing values in grid_15: 0\n",
      "Missing values in grid_16: 0\n",
      "Missing values in grid_17: 0\n",
      "Missing values in grid_18: 0\n",
      "Missing values in grid_19: 0\n",
      "Missing values in grid_20: 0\n",
      "Missing values in grid_21: 0\n",
      "Missing values in grid_22: 0\n",
      "Missing values in grid_23: 0\n",
      "Missing values in grid_24: 0\n",
      "Missing values in grid_25: 0\n",
      "Missing values in grid_26: 0\n",
      "Missing values in grid_27: 0\n",
      "Missing values in grid_28: 0\n",
      "Missing values in grid_29: 0\n",
      "Missing values in grid_30: 0\n",
      "Missing values in grid_31: 0\n",
      "Missing values in grid_32: 0\n",
      "Missing values in grid_33: 0\n"
     ]
    }
   ],
   "source": [
    "# check for missing values\n",
    "for key, grid in grid_data.items():\n",
    "    missing_values = np.isnan(grid).sum()\n",
    "    print(f\"Missing values in {key}: {missing_values}\")"
   ]
  },
  {
   "cell_type": "markdown",
   "id": "069d3885",
   "metadata": {},
   "source": [
    "## Path Visualization"
   ]
  },
  {
   "cell_type": "code",
   "execution_count": 17,
   "id": "9edc9b08",
   "metadata": {},
   "outputs": [
    {
     "data": {
      "image/png": "[encoded data removed]",
      "text/plain": [
       "<Figure size 400x400 with 1 Axes>"
      ]
     },
     "metadata": {},
     "output_type": "display_data"
    }
   ],
   "source": [
    "# Create a figure and axis\n",
    "fig, ax = plt.subplots(figsize=(4,4))\n",
    "ax.imshow(grid_data['grid_2'], cmap='gray')\n",
    "ax.set_xlabel('X-axis')\n",
    "ax.set_ylabel('Y-axis')\n",
    "ax.set_title('Path Data Visualization')\n",
    "plt.show()"
   ]
  },
  {
   "cell_type": "code",
   "execution_count": 18,
   "id": "b2424dd9",
   "metadata": {
    "scrolled": false
   },
   "outputs": [
    {
     "data": {
      "image/png": "[encoded data removed]",
      "text/plain": [
       "<Figure size 400x400 with 1 Axes>"
      ]
     },
     "metadata": {},
     "output_type": "display_data"
    }
   ],
   "source": [
    "# Create a figure and axis\n",
    "fig, ax = plt.subplots(figsize=(4,4))\n",
    "ax.imshow(grid_data['grid_33'], cmap='gray')\n",
    "ax.set_xlabel('X-axis')\n",
    "ax.set_ylabel('Y-axis')\n",
    "ax.set_title('Path Data Visualization')\n",
    "plt.show()"
   ]
  },
  {
   "cell_type": "markdown",
   "id": "d52f2921",
   "metadata": {},
   "source": [
    "## Optimal Path "
   ]
  },
  {
   "cell_type": "code",
   "execution_count": 19,
   "id": "e81c8a1b",
   "metadata": {},
   "outputs": [],
   "source": [
    "# Function to calculate the probability for each path based on the grid data\n",
    "def calculate_path_probability(path_index, grid_data):\n",
    "    path = grid_data[f'grid_{path_index}']\n",
    "    # Calculate the probability as the fraction of path cells that are set to 1\n",
    "    probability = np.sum(path) / np.prod(path.shape)\n",
    "    return probability\n",
    "# Calculate probabilities for each path\n",
    "path_probabilities = [calculate_path_probability(i, grid_data) for i in range(1, 34)]\n",
    "# Create a DataFrame with 'start_end_data' and the calculated probabilities\n",
    "start_end_data['Optimal Probability'] = path_probabilities"
   ]
  },
  {
   "cell_type": "code",
   "execution_count": 20,
   "id": "190a4e61",
   "metadata": {},
   "outputs": [
    {
     "data": {
      "text/html": [
       "<div>\n",
       "<style scoped>\n",
       "    .dataframe tbody tr th:only-of-type {\n",
       "        vertical-align: middle;\n",
       "    }\n",
       "\n",
       "    .dataframe tbody tr th {\n",
       "        vertical-align: top;\n",
       "    }\n",
       "\n",
       "    .dataframe thead th {\n",
       "        text-align: right;\n",
       "    }\n",
       "</style>\n",
       "<table border=\"1\" class=\"dataframe\">\n",
       "  <thead>\n",
       "    <tr style=\"text-align: right;\">\n",
       "      <th></th>\n",
       "      <th>StartX</th>\n",
       "      <th>StartY</th>\n",
       "      <th>GoalX</th>\n",
       "      <th>GoalY</th>\n",
       "      <th>Optimal Probability</th>\n",
       "    </tr>\n",
       "  </thead>\n",
       "  <tbody>\n",
       "    <tr>\n",
       "      <th>0</th>\n",
       "      <td>70.5</td>\n",
       "      <td>24.5</td>\n",
       "      <td>180</td>\n",
       "      <td>92.5</td>\n",
       "      <td>0.0157</td>\n",
       "    </tr>\n",
       "    <tr>\n",
       "      <th>1</th>\n",
       "      <td>70.5</td>\n",
       "      <td>24.5</td>\n",
       "      <td>9.5</td>\n",
       "      <td>99.5</td>\n",
       "      <td>0.0121</td>\n",
       "    </tr>\n",
       "    <tr>\n",
       "      <th>2</th>\n",
       "      <td>70.5</td>\n",
       "      <td>24.5</td>\n",
       "      <td>193.5</td>\n",
       "      <td>28.5</td>\n",
       "      <td>0.0120</td>\n",
       "    </tr>\n",
       "    <tr>\n",
       "      <th>3</th>\n",
       "      <td>70.5</td>\n",
       "      <td>24.5</td>\n",
       "      <td>101.5</td>\n",
       "      <td>48.5</td>\n",
       "      <td>0.0051</td>\n",
       "    </tr>\n",
       "    <tr>\n",
       "      <th>4</th>\n",
       "      <td>70.5</td>\n",
       "      <td>24.5</td>\n",
       "      <td>73.5</td>\n",
       "      <td>88.5</td>\n",
       "      <td>0.0090</td>\n",
       "    </tr>\n",
       "    <tr>\n",
       "      <th>5</th>\n",
       "      <td>70.5</td>\n",
       "      <td>24.5</td>\n",
       "      <td>194.5</td>\n",
       "      <td>92.5</td>\n",
       "      <td>0.0159</td>\n",
       "    </tr>\n",
       "    <tr>\n",
       "      <th>6</th>\n",
       "      <td>70.5</td>\n",
       "      <td>24.5</td>\n",
       "      <td>108.5</td>\n",
       "      <td>126.5</td>\n",
       "      <td>0.0226</td>\n",
       "    </tr>\n",
       "    <tr>\n",
       "      <th>7</th>\n",
       "      <td>70.5</td>\n",
       "      <td>24.5</td>\n",
       "      <td>217.5</td>\n",
       "      <td>126.5</td>\n",
       "      <td>0.0189</td>\n",
       "    </tr>\n",
       "    <tr>\n",
       "      <th>8</th>\n",
       "      <td>70.5</td>\n",
       "      <td>24.5</td>\n",
       "      <td>10.5</td>\n",
       "      <td>193.5</td>\n",
       "      <td>0.0180</td>\n",
       "    </tr>\n",
       "    <tr>\n",
       "      <th>9</th>\n",
       "      <td>70.5</td>\n",
       "      <td>24.5</td>\n",
       "      <td>115.5</td>\n",
       "      <td>240.5</td>\n",
       "      <td>0.0242</td>\n",
       "    </tr>\n",
       "  </tbody>\n",
       "</table>\n",
       "</div>"
      ],
      "text/plain": [
       "  StartX StartY  GoalX  GoalY  Optimal Probability\n",
       "0   70.5   24.5    180   92.5               0.0157\n",
       "1   70.5   24.5    9.5   99.5               0.0121\n",
       "2   70.5   24.5  193.5   28.5               0.0120\n",
       "3   70.5   24.5  101.5   48.5               0.0051\n",
       "4   70.5   24.5   73.5   88.5               0.0090\n",
       "5   70.5   24.5  194.5   92.5               0.0159\n",
       "6   70.5   24.5  108.5  126.5               0.0226\n",
       "7   70.5   24.5  217.5  126.5               0.0189\n",
       "8   70.5   24.5   10.5  193.5               0.0180\n",
       "9   70.5   24.5  115.5  240.5               0.0242"
      ]
     },
     "execution_count": 20,
     "metadata": {},
     "output_type": "execute_result"
    }
   ],
   "source": [
    "start_end_data.head(10)"
   ]
  },
  {
   "cell_type": "code",
   "execution_count": 21,
   "id": "e69eeca0",
   "metadata": {},
   "outputs": [],
   "source": [
    "path_probabilities_series = pd.Series(path_probabilities)\n",
    "# Define the threshold for classifying paths\n",
    "threshold = 0.01\n",
    "# Create a new column 'Optimal Label' based on the threshold\n",
    "start_end_data['Optimal Label'] = (path_probabilities_series >= threshold).astype(int)"
   ]
  },
  {
   "cell_type": "code",
   "execution_count": 22,
   "id": "24198fb0",
   "metadata": {
    "scrolled": true
   },
   "outputs": [
    {
     "data": {
      "text/html": [
       "<div>\n",
       "<style scoped>\n",
       "    .dataframe tbody tr th:only-of-type {\n",
       "        vertical-align: middle;\n",
       "    }\n",
       "\n",
       "    .dataframe tbody tr th {\n",
       "        vertical-align: top;\n",
       "    }\n",
       "\n",
       "    .dataframe thead th {\n",
       "        text-align: right;\n",
       "    }\n",
       "</style>\n",
       "<table border=\"1\" class=\"dataframe\">\n",
       "  <thead>\n",
       "    <tr style=\"text-align: right;\">\n",
       "      <th></th>\n",
       "      <th>StartX</th>\n",
       "      <th>StartY</th>\n",
       "      <th>GoalX</th>\n",
       "      <th>GoalY</th>\n",
       "      <th>Optimal Probability</th>\n",
       "      <th>Optimal Label</th>\n",
       "    </tr>\n",
       "  </thead>\n",
       "  <tbody>\n",
       "    <tr>\n",
       "      <th>0</th>\n",
       "      <td>70.5</td>\n",
       "      <td>24.5</td>\n",
       "      <td>180</td>\n",
       "      <td>92.5</td>\n",
       "      <td>0.0157</td>\n",
       "      <td>1</td>\n",
       "    </tr>\n",
       "    <tr>\n",
       "      <th>1</th>\n",
       "      <td>70.5</td>\n",
       "      <td>24.5</td>\n",
       "      <td>9.5</td>\n",
       "      <td>99.5</td>\n",
       "      <td>0.0121</td>\n",
       "      <td>1</td>\n",
       "    </tr>\n",
       "    <tr>\n",
       "      <th>2</th>\n",
       "      <td>70.5</td>\n",
       "      <td>24.5</td>\n",
       "      <td>193.5</td>\n",
       "      <td>28.5</td>\n",
       "      <td>0.0120</td>\n",
       "      <td>1</td>\n",
       "    </tr>\n",
       "    <tr>\n",
       "      <th>3</th>\n",
       "      <td>70.5</td>\n",
       "      <td>24.5</td>\n",
       "      <td>101.5</td>\n",
       "      <td>48.5</td>\n",
       "      <td>0.0051</td>\n",
       "      <td>0</td>\n",
       "    </tr>\n",
       "    <tr>\n",
       "      <th>4</th>\n",
       "      <td>70.5</td>\n",
       "      <td>24.5</td>\n",
       "      <td>73.5</td>\n",
       "      <td>88.5</td>\n",
       "      <td>0.0090</td>\n",
       "      <td>0</td>\n",
       "    </tr>\n",
       "    <tr>\n",
       "      <th>5</th>\n",
       "      <td>70.5</td>\n",
       "      <td>24.5</td>\n",
       "      <td>194.5</td>\n",
       "      <td>92.5</td>\n",
       "      <td>0.0159</td>\n",
       "      <td>1</td>\n",
       "    </tr>\n",
       "    <tr>\n",
       "      <th>6</th>\n",
       "      <td>70.5</td>\n",
       "      <td>24.5</td>\n",
       "      <td>108.5</td>\n",
       "      <td>126.5</td>\n",
       "      <td>0.0226</td>\n",
       "      <td>1</td>\n",
       "    </tr>\n",
       "    <tr>\n",
       "      <th>7</th>\n",
       "      <td>70.5</td>\n",
       "      <td>24.5</td>\n",
       "      <td>217.5</td>\n",
       "      <td>126.5</td>\n",
       "      <td>0.0189</td>\n",
       "      <td>1</td>\n",
       "    </tr>\n",
       "    <tr>\n",
       "      <th>8</th>\n",
       "      <td>70.5</td>\n",
       "      <td>24.5</td>\n",
       "      <td>10.5</td>\n",
       "      <td>193.5</td>\n",
       "      <td>0.0180</td>\n",
       "      <td>1</td>\n",
       "    </tr>\n",
       "    <tr>\n",
       "      <th>9</th>\n",
       "      <td>70.5</td>\n",
       "      <td>24.5</td>\n",
       "      <td>115.5</td>\n",
       "      <td>240.5</td>\n",
       "      <td>0.0242</td>\n",
       "      <td>1</td>\n",
       "    </tr>\n",
       "  </tbody>\n",
       "</table>\n",
       "</div>"
      ],
      "text/plain": [
       "  StartX StartY  GoalX  GoalY  Optimal Probability  Optimal Label\n",
       "0   70.5   24.5    180   92.5               0.0157              1\n",
       "1   70.5   24.5    9.5   99.5               0.0121              1\n",
       "2   70.5   24.5  193.5   28.5               0.0120              1\n",
       "3   70.5   24.5  101.5   48.5               0.0051              0\n",
       "4   70.5   24.5   73.5   88.5               0.0090              0\n",
       "5   70.5   24.5  194.5   92.5               0.0159              1\n",
       "6   70.5   24.5  108.5  126.5               0.0226              1\n",
       "7   70.5   24.5  217.5  126.5               0.0189              1\n",
       "8   70.5   24.5   10.5  193.5               0.0180              1\n",
       "9   70.5   24.5  115.5  240.5               0.0242              1"
      ]
     },
     "execution_count": 22,
     "metadata": {},
     "output_type": "execute_result"
    }
   ],
   "source": [
    "start_end_data.head(10)"
   ]
  },
  {
   "cell_type": "markdown",
   "id": "ab0594b0",
   "metadata": {},
   "source": [
    "## Spliting Data"
   ]
  },
  {
   "cell_type": "code",
   "execution_count": 23,
   "id": "e46b9832",
   "metadata": {},
   "outputs": [],
   "source": [
    "flattened_grids = []\n",
    "start_end_vectors = []\n",
    "for i, (grid_key, grid_array) in enumerate(grid_data.items()):\n",
    "    # Flatten the grid_array\n",
    "    flattened_grid = grid_array.flatten()\n",
    "    flattened_grids.append(flattened_grid)\n",
    "    start_end_vectors.append(start_end_vector[i])\n",
    "# Convert the lists of flattened grids and start_end_vectors into NumPy arrays\n",
    "X_grid = np.array(flattened_grids)\n",
    "X_start_end = np.array(start_end_vectors)"
   ]
  },
  {
   "cell_type": "markdown",
   "id": "f9a88988",
   "metadata": {},
   "source": [
    "## Train Test Split"
   ]
  },
  {
   "cell_type": "code",
   "execution_count": 24,
   "id": "ecd5d319",
   "metadata": {},
   "outputs": [],
   "source": [
    "y_train, y_test = train_test_split(start_end_data['Optimal Label'], test_size=0.4)"
   ]
  },
  {
   "cell_type": "code",
   "execution_count": 25,
   "id": "9962eb00",
   "metadata": {},
   "outputs": [],
   "source": [
    "X_grid_train, X_grid_test, X_start_end_train, X_start_end_test, y_train, y_test = train_test_split(X_grid, X_start_end, start_end_data['Optimal Label'], test_size=0.4, random_state=42)"
   ]
  },
  {
   "cell_type": "code",
   "execution_count": 26,
   "id": "35aa801f",
   "metadata": {},
   "outputs": [],
   "source": [
    "# Reshape X_grid to match the expected input shape of (100, 100, 1)\n",
    "X_grid_train_reshaped = X_grid_train.reshape(-1, 100, 100, 1)\n",
    "X_grid_test_reshaped = X_grid_test.reshape(-1, 100, 100, 1)"
   ]
  },
  {
   "cell_type": "markdown",
   "id": "8a26fd49",
   "metadata": {},
   "source": [
    "## Building CNN Model"
   ]
  },
  {
   "cell_type": "code",
   "execution_count": 27,
   "id": "8aaba7d8",
   "metadata": {},
   "outputs": [],
   "source": [
    "# Define your CNN architecture for grid data\n",
    "grid_input = Input(shape=(100, 100, 1))\n",
    "grid_conv1 = Conv2D(32, kernel_size=(3, 3), activation='relu')(grid_input)\n",
    "grid_pool1 = MaxPooling2D(pool_size=(2, 2))(grid_conv1)\n",
    "# Add more convolutional and pooling layers as needed\n",
    "grid_flatten = Flatten()(grid_pool1)\n",
    "\n",
    "# Define your model for start_end data\n",
    "start_end_input = Input(shape=(4,))\n",
    "# Add more layers if needed\n",
    "\n",
    "# Merge the two paths\n",
    "merged = concatenate([grid_flatten, start_end_input], axis=-1)\n",
    "\n",
    "# Output layer\n",
    "output = Dense(1, activation='sigmoid')(merged)\n",
    "\n",
    "model_cnn = keras.Model(inputs=[grid_input, start_end_input], outputs=output)"
   ]
  },
  {
   "cell_type": "code",
   "execution_count": 28,
   "id": "0dfb47ca",
   "metadata": {},
   "outputs": [],
   "source": [
    "# Compile the model\n",
    "model_cnn.compile(loss='binary_crossentropy', optimizer='adam', metrics=['accuracy'])"
   ]
  },
  {
   "cell_type": "markdown",
   "id": "60ea58c5",
   "metadata": {},
   "source": [
    "## Model_CNN Evaluation"
   ]
  },
  {
   "cell_type": "code",
   "execution_count": 29,
   "id": "8dff97e4",
   "metadata": {
    "scrolled": false
   },
   "outputs": [
    {
     "name": "stdout",
     "output_type": "stream",
     "text": [
      "Epoch 1/10\n",
      "1/1 [==============================] - 2s 2s/step - loss: 0.6855 - accuracy: 0.7895 - val_loss: 0.6167 - val_accuracy: 0.7857\n",
      "Epoch 2/10\n",
      "1/1 [==============================] - 0s 188ms/step - loss: 0.5173 - accuracy: 0.8947 - val_loss: 0.5262 - val_accuracy: 0.7857\n",
      "Epoch 3/10\n",
      "1/1 [==============================] - 0s 184ms/step - loss: 0.3853 - accuracy: 0.8947 - val_loss: 0.4611 - val_accuracy: 0.7857\n",
      "Epoch 4/10\n",
      "1/1 [==============================] - 0s 184ms/step - loss: 0.2907 - accuracy: 0.8421 - val_loss: 0.4315 - val_accuracy: 0.7857\n",
      "Epoch 5/10\n",
      "1/1 [==============================] - 0s 184ms/step - loss: 0.2325 - accuracy: 0.8421 - val_loss: 0.4401 - val_accuracy: 0.7857\n",
      "Epoch 6/10\n",
      "1/1 [==============================] - 0s 175ms/step - loss: 0.2024 - accuracy: 0.8421 - val_loss: 0.4457 - val_accuracy: 0.7857\n",
      "Epoch 7/10\n",
      "1/1 [==============================] - 0s 200ms/step - loss: 0.1783 - accuracy: 0.8421 - val_loss: 0.4341 - val_accuracy: 0.7857\n",
      "Epoch 8/10\n",
      "1/1 [==============================] - 0s 192ms/step - loss: 0.1510 - accuracy: 0.8947 - val_loss: 0.4112 - val_accuracy: 0.7857\n",
      "Epoch 9/10\n",
      "1/1 [==============================] - 0s 190ms/step - loss: 0.1233 - accuracy: 0.9474 - val_loss: 0.3851 - val_accuracy: 0.7857\n",
      "Epoch 10/10\n",
      "1/1 [==============================] - 0s 185ms/step - loss: 0.0989 - accuracy: 1.0000 - val_loss: 0.3621 - val_accuracy: 0.7857\n"
     ]
    },
    {
     "data": {
      "text/plain": [
       "<keras.src.callbacks.History at 0x24e90796d10>"
      ]
     },
     "execution_count": 29,
     "metadata": {},
     "output_type": "execute_result"
    }
   ],
   "source": [
    "# Train the model\n",
    "model_cnn.fit([X_grid_train_reshaped, X_start_end_train], y_train, epochs=10, batch_size=32, validation_data=([X_grid_test_reshaped, X_start_end_test], y_test))"
   ]
  },
  {
   "cell_type": "code",
   "execution_count": 30,
   "id": "5a43ad23",
   "metadata": {
    "scrolled": true
   },
   "outputs": [
    {
     "name": "stdout",
     "output_type": "stream",
     "text": [
      "1/1 [==============================] - 0s 55ms/step - loss: 0.3621 - accuracy: 0.7857\n"
     ]
    }
   ],
   "source": [
    "loss, accuracy = model_cnn.evaluate([X_grid_test_reshaped, X_start_end_test], y_test)"
   ]
  },
  {
   "cell_type": "markdown",
   "id": "c844fb25",
   "metadata": {},
   "source": [
    "## Saving Model "
   ]
  },
  {
   "cell_type": "code",
   "execution_count": 31,
   "id": "2249e110",
   "metadata": {},
   "outputs": [
    {
     "name": "stdout",
     "output_type": "stream",
     "text": [
      "Epoch 1/10\n",
      "1/1 [==============================] - 2s 2s/step - loss: 0.6877 - accuracy: 0.6842 - val_loss: 0.6057 - val_accuracy: 0.7857\n",
      "Epoch 2/10\n",
      "1/1 [==============================] - 0s 185ms/step - loss: 0.5163 - accuracy: 0.8947 - val_loss: 0.5216 - val_accuracy: 0.7857\n",
      "Epoch 3/10\n",
      "1/1 [==============================] - 0s 183ms/step - loss: 0.3828 - accuracy: 0.8947 - val_loss: 0.4620 - val_accuracy: 0.7857\n",
      "Epoch 4/10\n",
      "1/1 [==============================] - 0s 184ms/step - loss: 0.2873 - accuracy: 0.8421 - val_loss: 0.4353 - val_accuracy: 0.7857\n",
      "Epoch 5/10\n",
      "1/1 [==============================] - 0s 159ms/step - loss: 0.2281 - accuracy: 0.8421 - val_loss: 0.4469 - val_accuracy: 0.7857\n",
      "Epoch 6/10\n",
      "1/1 [==============================] - 0s 175ms/step - loss: 0.1971 - accuracy: 0.8421 - val_loss: 0.4544 - val_accuracy: 0.7857\n",
      "Epoch 7/10\n",
      "1/1 [==============================] - 0s 158ms/step - loss: 0.1723 - accuracy: 0.8421 - val_loss: 0.4430 - val_accuracy: 0.7857\n",
      "Epoch 8/10\n",
      "1/1 [==============================] - 0s 159ms/step - loss: 0.1446 - accuracy: 0.8947 - val_loss: 0.4192 - val_accuracy: 0.7857\n",
      "Epoch 9/10\n",
      "1/1 [==============================] - 0s 167ms/step - loss: 0.1169 - accuracy: 1.0000 - val_loss: 0.3920 - val_accuracy: 0.7857\n",
      "Epoch 10/10\n",
      "1/1 [==============================] - 0s 166ms/step - loss: 0.0934 - accuracy: 1.0000 - val_loss: 0.3686 - val_accuracy: 0.8571\n"
     ]
    },
    {
     "data": {
      "text/plain": [
       "<keras.src.callbacks.History at 0x24e90accc10>"
      ]
     },
     "execution_count": 31,
     "metadata": {},
     "output_type": "execute_result"
    }
   ],
   "source": [
    "import tensorflow as tf\n",
    "from tensorflow import keras\n",
    "from tensorflow.keras.layers import Input, Conv2D, MaxPooling2D, Flatten, Dense, concatenate\n",
    "\n",
    "# Define your CNN model\n",
    "def create_cnn_model(input_shape_grid, input_shape_start_end):\n",
    "    # Define separate inputs for grid and start_end data\n",
    "    grid_input = Input(shape=input_shape_grid)\n",
    "    start_end_input = Input(shape=input_shape_start_end)\n",
    "    \n",
    "    # Define layers for grid data\n",
    "    grid_conv1 = Conv2D(32, kernel_size=(3, 3), activation='relu')(grid_input)\n",
    "    grid_pool1 = MaxPooling2D(pool_size=(2, 2))(grid_conv1)\n",
    "    grid_flatten = Flatten()(grid_pool1)\n",
    "    \n",
    "    # Merge the two paths\n",
    "    merged = concatenate([grid_flatten, start_end_input], axis=-1)\n",
    "    \n",
    "    # Output layer\n",
    "    output = Dense(1, activation='sigmoid')(merged)\n",
    "    \n",
    "    model = keras.Model(inputs=[grid_input, start_end_input], outputs=output)\n",
    "    model.compile(optimizer='adam', loss='binary_crossentropy', metrics=['accuracy'])\n",
    "    return model\n",
    "\n",
    "# Create the CNN model with appropriate input shapes\n",
    "input_shape_grid = (100, 100, 1)  # Input shape for grid data\n",
    "input_shape_start_end = (4,)     # Input shape for start_end data\n",
    "model_cnn = create_cnn_model(input_shape_grid, input_shape_start_end)\n",
    "\n",
    "# Train your model with your training data\n",
    "model_cnn.fit([X_grid_train_reshaped, X_start_end_train], y_train, epochs=10, batch_size=32, validation_data=([X_grid_test_reshaped, X_start_end_test], y_test))"
   ]
  },
  {
   "cell_type": "code",
   "execution_count": 32,
   "id": "171787b8",
   "metadata": {},
   "outputs": [
    {
     "name": "stdout",
     "output_type": "stream",
     "text": [
      "Model saved to D:/CNN_RRT/model.h5\n"
     ]
    },
    {
     "name": "stderr",
     "output_type": "stream",
     "text": [
      "C:\\ProgramData\\anaconda3\\envs\\Machine_Learning\\lib\\site-packages\\keras\\src\\engine\\training.py:3000: UserWarning: You are saving your model as an HDF5 file via `model.save()`. This file format is considered legacy. We recommend using instead the native Keras format, e.g. `model.save('my_model.keras')`.\n",
      "  saving_api.save_model(\n"
     ]
    }
   ],
   "source": [
    "# Define and train your CNN model\n",
    "model = create_cnn_model(input_shape_grid,input_shape_start_end)  \n",
    "\n",
    "# Specify the path where you want to save your model\n",
    "model_path = \"D:/CNN_RRT/model.h5\"\n",
    "\n",
    "# Save the model to the specified path\n",
    "model.save(model_path)\n",
    "\n",
    "print(f\"Model saved to {model_path}\")"
   ]
  },
  {
   "cell_type": "code",
   "execution_count": 33,
   "id": "fdea6da3",
   "metadata": {},
   "outputs": [],
   "source": [
    "model_path = \"D:/CNN_RRT/model.h5\""
   ]
  },
  {
   "cell_type": "code",
   "execution_count": 34,
   "id": "217ff862",
   "metadata": {},
   "outputs": [],
   "source": [
    "import tensorflow as tf\n",
    "from tensorflow import keras\n",
    "\n",
    "def load_trained_cnn_model(model_path):\n",
    "    # Load your trained CNN model\n",
    "    model = keras.models.load_model(model_path)\n",
    "\n",
    "    return model"
   ]
  },
  {
   "cell_type": "markdown",
   "id": "f622cc8b",
   "metadata": {},
   "source": [
    "## Model Conversion"
   ]
  },
  {
   "cell_type": "code",
   "execution_count": 41,
   "id": "4ed86581",
   "metadata": {},
   "outputs": [],
   "source": [
    "from tensorflow.keras.models import load_model\n",
    "from tensorflow.keras.models import save_model\n",
    "import tensorflow_model_optimization as tfmot"
   ]
  },
  {
   "cell_type": "code",
   "execution_count": 39,
   "id": "35e661a0",
   "metadata": {},
   "outputs": [],
   "source": [
    "# Load the Keras model\n",
    "model = load_model('model.h5')"
   ]
  },
  {
   "cell_type": "code",
   "execution_count": 42,
   "id": "5f44ddc0",
   "metadata": {},
   "outputs": [],
   "source": [
    "# Convert the model to Keras version 2.6.0\n",
    "converted_model = tfmot.quantization.keras.quantize_model(model, 'int8')"
   ]
  },
  {
   "cell_type": "code",
   "execution_count": 50,
   "id": "5a344a79",
   "metadata": {},
   "outputs": [],
   "source": [
    "# Save the converted model in the native Keras format\n",
    "converted_model.save('model_converted.keras')"
   ]
  }
 ],
 "metadata": {
  "kernelspec": {
   "display_name": "Python 3 (ipykernel)",
   "language": "python",
   "name": "python3"
  },
  "language_info": {
   "codemirror_mode": {
    "name": "ipython",
    "version": 3
   },
   "file_extension": ".py",
   "mimetype": "text/x-python",
   "name": "python",
   "nbconvert_exporter": "python",
   "pygments_lexer": "ipython3",
   "version": "3.10.12"
  }
 },
 "nbformat": 4,
 "nbformat_minor": 5
}
